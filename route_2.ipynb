{
 "cells": [
  {
   "cell_type": "code",
   "execution_count": 73,
   "metadata": {},
   "outputs": [],
   "source": [
    "# naver maps api id, key\n",
    "import yaml\n",
    "\n",
    "with open(\"config.yaml\", \"r\") as file:\n",
    "    config = yaml.safe_load(file)\n",
    "\n",
    "naver_api_id = config['naver api']['id']\n",
    "naver_api_key = config['naver api']['key']\n",
    "kakao_api_key = config['kakao api']['key']"
   ]
  },
  {
   "cell_type": "code",
   "execution_count": 74,
   "metadata": {},
   "outputs": [],
   "source": [
    "import os\n",
    "import pandas as pd\n",
    "\n",
    "# 'data/raw_data' 경로 설정\n",
    "root_dir = 'data/'\n",
    "visitor_city = pd.read_csv(os.path.join(root_dir, \"city_of_festival_visitors.csv\"))  # 무주축제 방문객 top 18 지역들 (시군구명,od_cnts,시도명,행정동코드,위도,경도)\n",
    "address = pd.read_csv(os.path.join(root_dir, \"address_with_lon_lat_final.csv\"))  # 행정동코드 + 위도경도 (행정동코드,시도명,시군구명,읍면동명,동리명,위도,경도)\n",
    "mooju = set(list(address[address['시군구명'] == '무주군']['행정동코드']))  # 무주군 행정동코드\n",
    "other_city = list(address.merge(visitor_city, on=['시도명', '시군구명'])['행정동코드_x'])  # 다른 지역들 행정동코드 모음"
   ]
  },
  {
   "cell_type": "code",
   "execution_count": 75,
   "metadata": {},
   "outputs": [
    {
     "data": {
      "text/html": [
       "<div>\n",
       "<style scoped>\n",
       "    .dataframe tbody tr th:only-of-type {\n",
       "        vertical-align: middle;\n",
       "    }\n",
       "\n",
       "    .dataframe tbody tr th {\n",
       "        vertical-align: top;\n",
       "    }\n",
       "\n",
       "    .dataframe thead th {\n",
       "        text-align: right;\n",
       "    }\n",
       "</style>\n",
       "<table border=\"1\" class=\"dataframe\">\n",
       "  <thead>\n",
       "    <tr style=\"text-align: right;\">\n",
       "      <th></th>\n",
       "      <th>행정동코드</th>\n",
       "      <th>시도명</th>\n",
       "      <th>시군구명</th>\n",
       "      <th>읍면동명</th>\n",
       "      <th>동리명</th>\n",
       "      <th>위도</th>\n",
       "      <th>경도</th>\n",
       "      <th>시도 시군구</th>\n",
       "    </tr>\n",
       "  </thead>\n",
       "  <tbody>\n",
       "    <tr>\n",
       "      <th>0</th>\n",
       "      <td>1100000000</td>\n",
       "      <td>서울특별시</td>\n",
       "      <td>NaN</td>\n",
       "      <td>NaN</td>\n",
       "      <td>서울특별시</td>\n",
       "      <td>37.566679</td>\n",
       "      <td>126.978291</td>\n",
       "      <td>서울특별시</td>\n",
       "    </tr>\n",
       "    <tr>\n",
       "      <th>1</th>\n",
       "      <td>1111000000</td>\n",
       "      <td>서울특별시</td>\n",
       "      <td>종로구</td>\n",
       "      <td>NaN</td>\n",
       "      <td>종로구</td>\n",
       "      <td>37.580695</td>\n",
       "      <td>126.982799</td>\n",
       "      <td>서울특별시 종로구</td>\n",
       "    </tr>\n",
       "    <tr>\n",
       "      <th>2</th>\n",
       "      <td>1111051500</td>\n",
       "      <td>서울특별시</td>\n",
       "      <td>종로구</td>\n",
       "      <td>청운효자동</td>\n",
       "      <td>세종로</td>\n",
       "      <td>37.579997</td>\n",
       "      <td>126.976930</td>\n",
       "      <td>서울특별시 종로구</td>\n",
       "    </tr>\n",
       "    <tr>\n",
       "      <th>3</th>\n",
       "      <td>1111051500</td>\n",
       "      <td>서울특별시</td>\n",
       "      <td>종로구</td>\n",
       "      <td>청운효자동</td>\n",
       "      <td>옥인동</td>\n",
       "      <td>37.583480</td>\n",
       "      <td>126.963850</td>\n",
       "      <td>서울특별시 종로구</td>\n",
       "    </tr>\n",
       "    <tr>\n",
       "      <th>4</th>\n",
       "      <td>1111051500</td>\n",
       "      <td>서울특별시</td>\n",
       "      <td>종로구</td>\n",
       "      <td>청운효자동</td>\n",
       "      <td>누하동</td>\n",
       "      <td>37.578998</td>\n",
       "      <td>126.967561</td>\n",
       "      <td>서울특별시 종로구</td>\n",
       "    </tr>\n",
       "  </tbody>\n",
       "</table>\n",
       "</div>"
      ],
      "text/plain": [
       "        행정동코드    시도명 시군구명   읍면동명    동리명         위도          경도     시도 시군구\n",
       "0  1100000000  서울특별시  NaN    NaN  서울특별시  37.566679  126.978291      서울특별시\n",
       "1  1111000000  서울특별시  종로구    NaN    종로구  37.580695  126.982799  서울특별시 종로구\n",
       "2  1111051500  서울특별시  종로구  청운효자동    세종로  37.579997  126.976930  서울특별시 종로구\n",
       "3  1111051500  서울특별시  종로구  청운효자동    옥인동  37.583480  126.963850  서울특별시 종로구\n",
       "4  1111051500  서울특별시  종로구  청운효자동    누하동  37.578998  126.967561  서울특별시 종로구"
      ]
     },
     "execution_count": 75,
     "metadata": {},
     "output_type": "execute_result"
    }
   ],
   "source": [
    "address['시도 시군구'] = address['시도명'].fillna('') + ' ' + address['시군구명'].fillna('')\n",
    "\n",
    "# 양쪽 값이 모두 null인 경우 빈 문자열 처리\n",
    "address['시도 시군구'] = address['시도 시군구'].str.strip()\n",
    "address.head()"
   ]
  },
  {
   "cell_type": "code",
   "execution_count": 76,
   "metadata": {},
   "outputs": [],
   "source": [
    "def get_coordinates(lst):\n",
    "    coordinates = []\n",
    "    for name in lst:\n",
    "        try:\n",
    "            # '시도 시군구'로 '위도', '경도' 가져옴\n",
    "            target = address[address['시도 시군구'] == name][['위도','경도']].iloc[0]\n",
    "            x, y = target.iloc[0], target.iloc[1]\n",
    "            coordinates.append((x,y))\n",
    "        except IndexError:\n",
    "            # 해당 '시도 시군구'에 대한 데이터가 없는 경우\n",
    "            print(f\"{name} 지역의 위도, 경도 정보가 없습니다.\")\n",
    "    return coordinates\n"
   ]
  },
  {
   "cell_type": "code",
   "execution_count": 77,
   "metadata": {},
   "outputs": [],
   "source": [
    "import requests\n",
    "\n",
    "def naver_request(start, goal):\n",
    "    # 요청\n",
    "    url = 'https://naveropenapi.apigw.ntruss.com/map-direction/v1/driving'\n",
    "    params = {\n",
    "        'goal': f'{goal[1]},{goal[0]}',\n",
    "        'start': f'{start[1]},{start[0]}',\n",
    "    }\n",
    "    headers = {\n",
    "        'x-ncp-apigw-api-key-id': naver_api_id,\n",
    "        'x-ncp-apigw-api-key': naver_api_key\n",
    "    }\n",
    "    response = requests.get(url, headers=headers, params=params)\n",
    "\n",
    "    # 응답\n",
    "    data = response.json()\n",
    "    if data['code'] == 0:\n",
    "        if data['route']['traoptimal']:\n",
    "            summary = data['route']['traoptimal'][0]['summary']\n",
    "            distance = summary['distance']\n",
    "            duration = summary['duration']\n",
    "            return distance, duration\n",
    "        else:\n",
    "            print(\"응답 에러: 'traoptimal' 데이터가 없습니다.\")\n",
    "            return -1, -1\n",
    "    else:\n",
    "        print(\"요청 실패: \", data['message'])\n",
    "        return -1, -1\n",
    "\n",
    "\n",
    "def kakao_request(start, goal):\n",
    "    # 요청\n",
    "    url = 'https://apis-navi.kakaomobility.com/v1/directions'\n",
    "    params = {\n",
    "        'origin': f'{start[1]},{start[0]}',\n",
    "        'destination': f'{goal[1]},{goal[0]}',\n",
    "        'alternatives': True,\n",
    "    }\n",
    "    headers = {\n",
    "        'Authorization': f'KakaoAK {kakao_api_key}'\n",
    "    }\n",
    "    response = requests.get(url, headers=headers, params=params)\n",
    "\n",
    "    # 응답\n",
    "    if response.status_code == 200:\n",
    "        data = response.json()\n",
    "        if data['routes']:\n",
    "            summary = data['routes'][0]['summary']\n",
    "            distance = summary.get('distance')\n",
    "            duration = summary.get('duration')\n",
    "            return distance, duration\n",
    "        else:\n",
    "            print(\"응답 에러: 'routes' 데이터가 없습니다.\")\n",
    "            return -1, -1\n",
    "    else:\n",
    "        print(\"요청 실패\")\n",
    "        return -1, -1\n",
    "\n",
    "\n",
    "def get_path_info(coordinates, request_func):\n",
    "    n = len(coordinates)\n",
    "    distance_table = [[0] * n for _ in range(n)]\n",
    "    duration_table = [[0] * n for _ in range(n)]\n",
    "\n",
    "    for i in range(n):\n",
    "        for j in range(n):\n",
    "            if j > i:\n",
    "                start = coordinates[i]\n",
    "                goal = coordinates[j]\n",
    "                distance, duration = request_func(start, goal)\n",
    "                distance_table[i][j], distance_table[j][i] = distance, distance\n",
    "                duration_table[i][j], duration_table[j][i] = duration, duration\n",
    "\n",
    "    return distance_table, duration_table"
   ]
  },
  {
   "cell_type": "markdown",
   "metadata": {},
   "source": [
    "---"
   ]
  },
  {
   "cell_type": "code",
   "execution_count": 78,
   "metadata": {},
   "outputs": [],
   "source": [
    "# 경유지 설정\n",
    "daejun = ['세종특별자치시', '대전광역시 유성구', '대전광역시 서구', '대전광역시 대덕구', '대전광역시 중구', '충청남도 금산군', '충청북도 영동군', '전라북도 무주군']\n",
    "jeonbuk = ['전라북도 군산시', '전라북도 익산시', '전라북도 전주시 완산구', '전라북도 전주시 덕진구', '전라북도 진안군', '전라북도 장수군', '전라북도 무주군']\n",
    "\n",
    "nodes = daejun  # ← 여기 변경 "
   ]
  },
  {
   "cell_type": "code",
   "execution_count": 79,
   "metadata": {},
   "outputs": [
    {
     "data": {
      "text/plain": [
       "[(36.4799999, 127.289),\n",
       " (36.3620732, 127.3564099),\n",
       " (36.3551786, 127.3838487),\n",
       " (36.3465766, 127.4158483),\n",
       " (36.3254513, 127.4211737),\n",
       " (36.1087249, 127.48815),\n",
       " (36.1747588, 127.7834432),\n",
       " (36.007, 127.6609)]"
      ]
     },
     "execution_count": 79,
     "metadata": {},
     "output_type": "execute_result"
    }
   ],
   "source": [
    "coordinates = get_coordinates(nodes)  # 경유지 위경도 좌표 받아옴\n",
    "coordinates"
   ]
  },
  {
   "cell_type": "code",
   "execution_count": 81,
   "metadata": {},
   "outputs": [],
   "source": [
    "# 위경도 좌표를 기반으로 노드 간 거리와 시간 정보 구하기\n",
    "# - api 호출하므로 마구 누르는 거 주의 !\n",
    "\n",
    "# 네이버\n",
    "n_distance_table, n_duration_table = get_path_info(coordinates, naver_request)"
   ]
  },
  {
   "cell_type": "code",
   "execution_count": 89,
   "metadata": {},
   "outputs": [],
   "source": [
    "# 카카오\n",
    "k_distance_table, k_duration_table = get_path_info(coordinates, kakao_request)"
   ]
  },
  {
   "cell_type": "code",
   "execution_count": 90,
   "metadata": {},
   "outputs": [
    {
     "data": {
      "text/plain": [
       "[[0, 17501, 20307, 25972, 25261, 59883, 72701, 83433],\n",
       " [17501, 0, 3940, 7631, 9274, 38037, 54341, 71682],\n",
       " [20307, 3940, 0, 4149, 6328, 35042, 51309, 66681],\n",
       " [25972, 7631, 4149, 0, 3420, 31509, 47687, 63059],\n",
       " [25261, 9274, 6328, 3420, 0, 29509, 49193, 54068],\n",
       " [59883, 38037, 35042, 31509, 29509, 0, 38628, 31299],\n",
       " [72701, 54341, 51309, 47687, 49193, 38628, 0, 27200],\n",
       " [83433, 71682, 66681, 63059, 54068, 31299, 27200, 0]]"
      ]
     },
     "execution_count": 90,
     "metadata": {},
     "output_type": "execute_result"
    }
   ],
   "source": [
    "k_distance_table"
   ]
  },
  {
   "cell_type": "code",
   "execution_count": 91,
   "metadata": {},
   "outputs": [
    {
     "data": {
      "text/plain": [
       "[[0, 1433, 1619, 1700, 2232, 3240, 4334, 4106],\n",
       " [1433, 0, 577, 848, 1002, 3037, 3935, 3456],\n",
       " [1619, 577, 0, 690, 894, 2940, 3838, 3601],\n",
       " [1700, 848, 690, 0, 481, 2451, 3435, 3193],\n",
       " [2232, 1002, 894, 481, 0, 2171, 3562, 3133],\n",
       " [3240, 3037, 2940, 2451, 2171, 0, 3011, 1963],\n",
       " [4334, 3935, 3838, 3435, 3562, 3011, 0, 1625],\n",
       " [4106, 3456, 3601, 3193, 3133, 1963, 1625, 0]]"
      ]
     },
     "execution_count": 91,
     "metadata": {},
     "output_type": "execute_result"
    }
   ],
   "source": [
    "k_duration_table"
   ]
  },
  {
   "cell_type": "code",
   "execution_count": 94,
   "metadata": {},
   "outputs": [
    {
     "data": {
      "text/plain": [
       "[[0.0, 23.88, 26.98, 28.33, 37.2, 54.0, 72.23, 68.43],\n",
       " [23.88, 0.0, 9.62, 14.13, 16.7, 50.62, 65.58, 57.6],\n",
       " [26.98, 9.62, 0.0, 11.5, 14.9, 49.0, 63.97, 60.02],\n",
       " [28.33, 14.13, 11.5, 0.0, 8.02, 40.85, 57.25, 53.22],\n",
       " [37.2, 16.7, 14.9, 8.02, 0.0, 36.18, 59.37, 52.22],\n",
       " [54.0, 50.62, 49.0, 40.85, 36.18, 0.0, 50.18, 32.72],\n",
       " [72.23, 65.58, 63.97, 57.25, 59.37, 50.18, 0.0, 27.08],\n",
       " [68.43, 57.6, 60.02, 53.22, 52.22, 32.72, 27.08, 0.0]]"
      ]
     },
     "execution_count": 94,
     "metadata": {},
     "output_type": "execute_result"
    }
   ],
   "source": [
    "k_duration_min_table = [[round(value / 60, 2) for value in row] for row in k_duration_table]\n",
    "k_duration_min_table"
   ]
  },
  {
   "cell_type": "markdown",
   "metadata": {},
   "source": [
    "---"
   ]
  },
  {
   "cell_type": "code",
   "execution_count": 95,
   "metadata": {},
   "outputs": [],
   "source": [
    "import numpy as np\n",
    "import networkx as nx\n",
    "\n",
    "# 모든 경로 찾기\n",
    "def find_all_routes(G, start, target, visited=None, path=None):\n",
    "    if visited is None:\n",
    "        visited = set()\n",
    "    if path is None:\n",
    "        path = []\n",
    "\n",
    "    visited.add(start)\n",
    "    path.append(start)\n",
    "\n",
    "    if start == target:\n",
    "        yield path.copy()\n",
    "    else:\n",
    "        for neighbor in G.neighbors(start):\n",
    "            if neighbor not in visited:\n",
    "                yield from find_all_routes(G, neighbor, target, visited, path)\n",
    "\n",
    "    path.pop()\n",
    "    visited.remove(start)\n",
    "\n",
    "# 최적 경로 탐색 함수\n",
    "def find_optimal_routes_within_range(G, stations, min_factor, max_factor, step):\n",
    "    optimal_routes = []\n",
    "    max_stops = 0\n",
    "    explored_routes = set()  # 탐색된 경로를 저장할 집합\n",
    "\n",
    "    # 여러 배수 값을 탐색\n",
    "    for factor in np.arange(min_factor, max_factor + step, step):\n",
    "\n",
    "        for station in stations.keys():\n",
    "            if station != \"전라북도 무주군\":  # 목적지가 아니면\n",
    "                routes = list(find_all_routes(G, station, \"전라북도 무주군\"))\n",
    "\n",
    "                for route in routes:\n",
    "                    valid_route = True\n",
    "                    total_distance = 0\n",
    "                    total_time = 0\n",
    "\n",
    "                    # 각 경로의 모든 구간에 대해 확인\n",
    "                    for i in range(len(route) - 1):\n",
    "                        current_station = route[i]\n",
    "\n",
    "                        # 현재 노드에서 무주군으로 바로 이동할 때의 거리와 시간\n",
    "                        if \"전라북도 무주군\" in G[current_station]:  # 직접 경로가 있는 경우에만\n",
    "                            direct_distance = G[current_station][\"전라북도 무주군\"]['distance']\n",
    "                            direct_time = G[current_station][\"전라북도 무주군\"]['time']\n",
    "\n",
    "                            # 현재 구간의 거리와 시간을 누적\n",
    "                            total_distance += G[route[i]][route[i + 1]]['distance']\n",
    "                            total_time += G[route[i]][route[i + 1]]['time']\n",
    "\n",
    "                            # 각 중간 노드에서도 주어진 배수(factor) 조건 확인\n",
    "                            if total_distance > direct_distance * factor or total_time > direct_time * factor:\n",
    "                                valid_route = False\n",
    "                                break\n",
    "\n",
    "                    if valid_route:\n",
    "                        # 경로를 집합에 저장할 수 있는 형태로 변환 (정렬하여 순서 상관없이 비교 가능)\n",
    "                        route_tuple = tuple(sorted(route))\n",
    "\n",
    "                        # 만약 해당 경로가 이전 배수에서 이미 탐색되었다면 제외\n",
    "                        if route_tuple not in explored_routes:\n",
    "                            explored_routes.add(route_tuple)  # 새로운 경로로 저장\n",
    "                            # 가장 많은 정거장 수 확인\n",
    "                            if len(route) > max_stops:\n",
    "                                max_stops = len(route)\n",
    "                                optimal_routes = [(route, total_distance, total_time, factor)]\n",
    "                            elif len(route) == max_stops:\n",
    "                                optimal_routes.append((route, total_distance, total_time, factor))\n",
    "\n",
    "    return optimal_routes"
   ]
  },
  {
   "cell_type": "code",
   "execution_count": 97,
   "metadata": {},
   "outputs": [
    {
     "name": "stdout",
     "output_type": "stream",
     "text": [
      "충남지역 최적의 셔틀 노선\n",
      "최적의 셔틀 노선: ['대전광역시 유성구', '대전광역시 서구', '대전광역시 대덕구', '전라북도 무주군'] | 총 거리: 71148 | 총 시간: 74.34 | 배수: 1.40\n",
      "최적의 셔틀 노선: ['대전광역시 서구', '대전광역시 대덕구', '대전광역시 중구', '전라북도 무주군'] | 총 거리: 61637 | 총 시간: 71.74 | 배수: 1.40\n",
      "최적의 셔틀 노선: ['대전광역시 중구', '대전광역시 대덕구', '대전광역시 유성구', '전라북도 무주군'] | 총 거리: 82733 | 총 시간: 79.75 | 배수: 1.40\n",
      "최적의 셔틀 노선: ['대전광역시 유성구', '대전광역시 서구', '대전광역시 중구', '전라북도 무주군'] | 총 거리: 64336 | 총 시간: 76.74 | 배수: 1.50\n",
      "최적의 셔틀 노선: ['대전광역시 서구', '대전광역시 유성구', '세종특별자치시', '전라북도 무주군'] | 총 거리: 104874 | 총 시간: 101.93 | 배수: 1.50\n"
     ]
    }
   ],
   "source": [
    "# 정거장 후보지와 가중치\n",
    "stations = {\n",
    "    \"세종특별자치시\": 1,\n",
    "    \"대전광역시 유성구\": 2,  # 가중치 2로 증가\n",
    "    \"대전광역시 서구\": 2,    # 가중치 2로 증가\n",
    "    \"대전광역시 대덕구\": 1,\n",
    "    \"대전광역시 중구\": 1,\n",
    "    \"충청남도 금산군\": 1,\n",
    "    \"충청북도 영동군\": 2,    # 가중치 2로 증가\n",
    "    \"전라북도 무주군\": 0,    # 목적지\n",
    "}\n",
    "\n",
    "# 그래프 생성\n",
    "G = nx.DiGraph()\n",
    "\n",
    "# 그래프에 엣지 추가\n",
    "for i, from_station in enumerate(stations.keys()):\n",
    "    for j, to_station in enumerate(stations.keys()):\n",
    "        if i != j:\n",
    "            G.add_edge(from_station, to_station, \n",
    "                       distance=k_distance_table[i][j], \n",
    "                       time=k_duration_min_table[i][j])\n",
    "            \n",
    "# 탐색 범위 설정 (예: 1.1부터 1.5까지 0.1 간격으로 탐색)\n",
    "min_factor = 1.1\n",
    "max_factor = 1.5\n",
    "step = 0.1\n",
    "\n",
    "# 최적 경로 탐색 실행\n",
    "optimal_routes = find_optimal_routes_within_range(G, stations, min_factor, max_factor, step)\n",
    "\n",
    "# 결과 출력\n",
    "print(\"충남지역 최적의 셔틀 노선\")\n",
    "if optimal_routes:\n",
    "    for route, total_distance, total_time, factor in optimal_routes:\n",
    "        print(f\"최적의 셔틀 노선: {route} | 총 거리: {total_distance} | 총 시간: {total_time} | 배수: {factor:.2f}\")\n",
    "else:\n",
    "    print(\"유효한 경로가 없습니다.\")"
   ]
  },
  {
   "cell_type": "code",
   "execution_count": 99,
   "metadata": {},
   "outputs": [
    {
     "name": "stdout",
     "output_type": "stream",
     "text": [
      "전북지역 최적의 셔틀 노선\n",
      "최적의 셔틀 노선: ['전라북도 전주시 완산구', '전라북도 전주시 덕진구', '전라북도 익산시', '전라북도 무주군'] | 총 거리: 124344 | 총 시간: 137.02 | 배수: 1.50\n"
     ]
    }
   ],
   "source": [
    "nodes = jeonbuk  # ← 여기 변경 \n",
    "\n",
    "coordinates = get_coordinates(nodes)  # 경유지 위경도 좌표 받아옴\n",
    "\n",
    "jb_k_distance_table, jb_k_duration_table = get_path_info(coordinates, kakao_request)\n",
    "\n",
    "jb_k_duration_min_table = [[round(value / 60, 2) for value in row] for row in jb_k_duration_table]\n",
    "\n",
    "# 정거장 후보지와 가중치\n",
    "stations = {\n",
    "    '전라북도 군산시': 1, \n",
    "    '전라북도 익산시': 1, \n",
    "    '전라북도 전주시 완산구': 2, \n",
    "    '전라북도 전주시 덕진구': 2, \n",
    "    '전라북도 진안군': 1, \n",
    "    '전라북도 장수군': 2,\n",
    "    '전라북도 무주군': 0,    # 목적지\n",
    "}\n",
    "\n",
    "# 그래프 생성\n",
    "G = nx.DiGraph()\n",
    "\n",
    "# 그래프에 엣지 추가\n",
    "for i, from_station in enumerate(stations.keys()):\n",
    "    for j, to_station in enumerate(stations.keys()):\n",
    "        if i != j:\n",
    "            G.add_edge(from_station, to_station, \n",
    "                       distance=jb_k_distance_table[i][j], \n",
    "                       time=jb_k_duration_min_table[i][j])\n",
    "            \n",
    "# 탐색 범위 설정 (예: 1.1부터 1.5까지 0.1 간격으로 탐색)\n",
    "min_factor = 1.1\n",
    "max_factor = 1.5\n",
    "step = 0.1\n",
    "\n",
    "# 최적 경로 탐색 실행\n",
    "optimal_routes = find_optimal_routes_within_range(G, stations, min_factor, max_factor, step)\n",
    "\n",
    "# 결과 출력\n",
    "print(\"전북지역 최적의 셔틀 노선\")\n",
    "if optimal_routes:\n",
    "    for route, total_distance, total_time, factor in optimal_routes:\n",
    "        print(f\"최적의 셔틀 노선: {route} | 총 거리: {total_distance} | 총 시간: {total_time} | 배수: {factor:.2f}\")\n",
    "else:\n",
    "    print(\"유효한 경로가 없습니다.\")"
   ]
  }
 ],
 "metadata": {
  "kernelspec": {
   "display_name": "base",
   "language": "python",
   "name": "python3"
  },
  "language_info": {
   "codemirror_mode": {
    "name": "ipython",
    "version": 3
   },
   "file_extension": ".py",
   "mimetype": "text/x-python",
   "name": "python",
   "nbconvert_exporter": "python",
   "pygments_lexer": "ipython3",
   "version": "3.11.7"
  }
 },
 "nbformat": 4,
 "nbformat_minor": 2
}
